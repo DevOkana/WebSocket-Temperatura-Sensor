{
 "cells": [
  {
   "cell_type": "code",
   "execution_count": 85,
   "metadata": {},
   "outputs": [
    {
     "name": "stdout",
     "output_type": "stream",
     "text": [
      "Coordinates 42.439998626708984°N -8.649999618530273°E\n",
      "Elevation 62.0 m asl\n",
      "Timezone b'Europe/Madrid' b'CEST'\n",
      "Timezone difference to GMT+0 7200 s\n"
     ]
    }
   ],
   "source": [
    "import openmeteo_requests\n",
    "\n",
    "import requests_cache\n",
    "import pandas as pd\n",
    "from retry_requests import retry\n",
    "import os\n",
    "from datetime import datetime\n",
    "\n",
    "# Setup the Open-Meteo API client with cache and retry on error\n",
    "cache_session = requests_cache.CachedSession('.cache', expire_after = 3600)\n",
    "retry_session = retry(cache_session, retries = 5, backoff_factor = 0.2)\n",
    "openmeteo = openmeteo_requests.Client(session = retry_session)\n",
    "\n",
    "# Make sure all required weather variables are listed here\n",
    "# The order of variables in hourly or daily is important to assign them correctly below\n",
    "url = \"https://api.open-meteo.com/v1/forecast\"\n",
    "params = {\n",
    "\t\"latitude\": 42.438598,\n",
    "\t\"longitude\": -8.654263,\n",
    "\t\"hourly\": [\"temperature_2m\", \"relative_humidity_2m\", \"wind_speed_10m\", \"wind_speed_80m\", \"wind_direction_10m\", \"wind_direction_80m\", \"temperature_80m\"],\n",
    "\t\"daily\": [\"temperature_2m_max\", \"temperature_2m_min\"],\n",
    "\t\"timezone\": \"auto\",\n",
    "\t\"forecast_days\": 1\n",
    "\n",
    "}\n",
    "responses = openmeteo.weather_api(url, params=params)\n",
    "\n",
    "# Process first location. Add a for-loop for multiple locations or weather models\n",
    "response = responses[0]\n",
    "print(f\"Coordinates {response.Latitude()}°N {response.Longitude()}°E\")\n",
    "print(f\"Elevation {response.Elevation()} m asl\")\n",
    "print(f\"Timezone {response.Timezone()} {response.TimezoneAbbreviation()}\")\n",
    "print(f\"Timezone difference to GMT+0 {response.UtcOffsetSeconds()} s\")\n",
    "\n",
    "# Process hourly data. The order of variables needs to be the same as requested.\n",
    "hourly = response.Hourly()\n",
    "hourly_temperature_2m = hourly.Variables(0).ValuesAsNumpy()\n",
    "hourly_relative_humidity_2m = hourly.Variables(1).ValuesAsNumpy()\n",
    "hourly_wind_speed_10m = hourly.Variables(2).ValuesAsNumpy()\n",
    "hourly_wind_speed_80m = hourly.Variables(3).ValuesAsNumpy()\n",
    "hourly_wind_direction_10m = hourly.Variables(4).ValuesAsNumpy()\n",
    "hourly_wind_direction_80m = hourly.Variables(5).ValuesAsNumpy()\n",
    "hourly_temperature_80m = hourly.Variables(6).ValuesAsNumpy()\n",
    "\n",
    "\n",
    "hourly_data = {\"date\": pd.date_range(\n",
    "\tstart = pd.to_datetime(hourly.Time(), unit = \"s\", utc = False),\n",
    "\tend = pd.to_datetime(hourly.TimeEnd(), unit = \"s\", utc = False),\n",
    "\tfreq = pd.Timedelta(seconds = hourly.Interval()),\n",
    "\tinclusive = \"left\"\n",
    ")}\n",
    "hourly_data[\"temperature_2m\"] = hourly_temperature_2m\n",
    "hourly_data[\"temperature_80m\"] = hourly_temperature_80m\n",
    "hourly_data[\"relative_humidity_2m\"] = hourly_relative_humidity_2m\n",
    "hourly_data[\"wind_speed_10m\"] = hourly_wind_speed_10m\n",
    "hourly_data[\"wind_speed_80m\"] = hourly_wind_speed_80m\n",
    "hourly_data[\"wind_direction_10m\"] = hourly_wind_direction_10m\n",
    "hourly_data[\"wind_direction_80m\"] = hourly_wind_direction_80m\n",
    "\n",
    "datos = pd.DataFrame(data = hourly_data)\n",
    "\n"
   ]
  },
  {
   "cell_type": "code",
   "execution_count": 86,
   "metadata": {},
   "outputs": [],
   "source": [
    "import csv\n",
    "import pandas as pd\n",
    "\n"
   ]
  },
  {
   "cell_type": "code",
   "execution_count": 87,
   "metadata": {},
   "outputs": [],
   "source": [
    "columna = 'date'\n",
    "from datetime import datetime\n",
    "\n",
    "# Obtiene la fecha y hora actual en formato UTC\n",
    "fecha_actual_utc = datetime.now()\n",
    "buscar = fecha_actual_utc.strftime(\"%Y-%m-%d %H:00:00\")"
   ]
  },
  {
   "cell_type": "code",
   "execution_count": 88,
   "metadata": {},
   "outputs": [],
   "source": [
    "resultado = datos[columna].apply(lambda x: buscar in str(x))"
   ]
  },
  {
   "cell_type": "code",
   "execution_count": 89,
   "metadata": {},
   "outputs": [],
   "source": [
    "datos = datos[resultado]"
   ]
  },
  {
   "cell_type": "code",
   "execution_count": 90,
   "metadata": {},
   "outputs": [
    {
     "data": {
      "text/html": [
       "<div>\n",
       "<style scoped>\n",
       "    .dataframe tbody tr th:only-of-type {\n",
       "        vertical-align: middle;\n",
       "    }\n",
       "\n",
       "    .dataframe tbody tr th {\n",
       "        vertical-align: top;\n",
       "    }\n",
       "\n",
       "    .dataframe thead th {\n",
       "        text-align: right;\n",
       "    }\n",
       "</style>\n",
       "<table border=\"1\" class=\"dataframe\">\n",
       "  <thead>\n",
       "    <tr style=\"text-align: right;\">\n",
       "      <th></th>\n",
       "      <th>date</th>\n",
       "      <th>temperature_2m</th>\n",
       "      <th>temperature_80m</th>\n",
       "      <th>relative_humidity_2m</th>\n",
       "      <th>wind_speed_10m</th>\n",
       "      <th>wind_speed_80m</th>\n",
       "      <th>wind_direction_10m</th>\n",
       "      <th>wind_direction_80m</th>\n",
       "    </tr>\n",
       "  </thead>\n",
       "  <tbody>\n",
       "    <tr>\n",
       "      <th>19</th>\n",
       "      <td>2024-04-16 17:00:00</td>\n",
       "      <td>20.068501</td>\n",
       "      <td>18.237</td>\n",
       "      <td>48.0</td>\n",
       "      <td>18.214718</td>\n",
       "      <td>29.199448</td>\n",
       "      <td>18.435053</td>\n",
       "      <td>20.394962</td>\n",
       "    </tr>\n",
       "  </tbody>\n",
       "</table>\n",
       "</div>"
      ],
      "text/plain": [
       "                  date  temperature_2m  temperature_80m  relative_humidity_2m  \\\n",
       "19 2024-04-16 17:00:00       20.068501           18.237                  48.0   \n",
       "\n",
       "    wind_speed_10m  wind_speed_80m  wind_direction_10m  wind_direction_80m  \n",
       "19       18.214718       29.199448           18.435053           20.394962  "
      ]
     },
     "execution_count": 90,
     "metadata": {},
     "output_type": "execute_result"
    }
   ],
   "source": [
    "datos"
   ]
  }
 ],
 "metadata": {
  "kernelspec": {
   "display_name": "Base",
   "language": "python",
   "name": "python3"
  },
  "language_info": {
   "codemirror_mode": {
    "name": "ipython",
    "version": 3
   },
   "file_extension": ".py",
   "mimetype": "text/x-python",
   "name": "python",
   "nbconvert_exporter": "python",
   "pygments_lexer": "ipython3",
   "version": "3.11.8"
  }
 },
 "nbformat": 4,
 "nbformat_minor": 2
}
